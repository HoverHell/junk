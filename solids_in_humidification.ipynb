{
 "cells": [
  {
   "cell_type": "markdown",
   "id": "bbbc928a-19ca-434e-8f0b-88b9d95d37f3",
   "metadata": {
    "tags": []
   },
   "source": [
    "### Context ###\n",
    "\n",
    "https://dynomight.net/air/"
   ]
  },
  {
   "cell_type": "markdown",
   "id": "1e4fe0a3-492b-4dd0-b30d-eb8e69b31fab",
   "metadata": {},
   "source": [
    "### Input data ###"
   ]
  },
  {
   "cell_type": "code",
   "execution_count": 1,
   "id": "baf90929-df0f-4448-8fe2-d076f358b7b7",
   "metadata": {},
   "outputs": [],
   "source": [
    "# Количество растворённых твёрдых веществ (\"total dissolved solids\") в используемой воде, ppm (parts per million, единиц на миллион)\n",
    "# из под крана - 100. после обратного осмоса - 15. минеральная вода из бутылки - 100.\n",
    "water_tds_ppm = 15\n",
    "\n",
    "# параметры воздуха\n",
    "air_temperature_celsius = 22  # (°C)\n",
    "air_humidity_start_pct = 22  # относительная влажность (%) в начале\n",
    "air_humidity_end_pct = 42  # относительная влажность (%) в конце\n",
    "air_pressure_kpa = 100  # атмосферное давление (килопаскаль); 1 атм. = 101.325 кПа"
   ]
  },
  {
   "cell_type": "markdown",
   "id": "c4cf3cb1-8b88-4cf0-a100-81e7ea79305d",
   "metadata": {},
   "source": [
    "### Calculation ###"
   ]
  },
  {
   "cell_type": "code",
   "execution_count": 15,
   "id": "0390437d-8673-47cc-90b3-6cc129b160c2",
   "metadata": {},
   "outputs": [
    {
     "data": {
      "text/markdown": [
       "### Плотность воздуха, грамм на метр кубический ###"
      ]
     },
     "metadata": {},
     "output_type": "display_data"
    },
    {
     "data": {
      "text/markdown": [
       "air_density_g_per_m3=1180.3722914501784"
      ]
     },
     "metadata": {},
     "output_type": "display_data"
    },
    {
     "data": {
      "text/markdown": [
       "### Доля воды в воздухе на 100% влажности ###"
      ]
     },
     "metadata": {},
     "output_type": "display_data"
    },
    {
     "data": {
      "text/markdown": [
       "water_saturated_mixing_ratio=0.016899524415714722"
      ]
     },
     "metadata": {},
     "output_type": "display_data"
    },
    {
     "data": {
      "text/markdown": [
       "### Масса добавленой воды, грамм на метр кубический ###"
      ]
     },
     "metadata": {},
     "output_type": "display_data"
    },
    {
     "data": {
      "text/markdown": [
       "с 22% до 42% влажности"
      ]
     },
     "metadata": {},
     "output_type": "display_data"
    },
    {
     "data": {
      "text/markdown": [
       "### Масса добавленой пыли, микрограмм на метр кубический ###"
      ]
     },
     "metadata": {},
     "output_type": "display_data"
    },
    {
     "data": {
      "text/markdown": [
       "added_solids_ug_per_m3=59.84319107698628"
      ]
     },
     "metadata": {},
     "output_type": "display_data"
    }
   ],
   "source": [
    "import math\n",
    "from IPython.display import display_markdown\n",
    "\n",
    "air_temperature_kelvin = air_temperature_celsius + 273.15\n",
    "air_density_g_per_m3 = (\n",
    "    4.81e-26  #  molecular mass of dry air\n",
    "    / 1.380649e-23  # Boltzmann constant\n",
    "    * 1000  # kg to g\n",
    "    * 1000  # kPa to Pa\n",
    "    * air_pressure_kpa / air_temperature_kelvin\n",
    ")\n",
    "display_markdown(\"### Плотность воздуха, грамм на метр кубический ###\", raw=True)\n",
    "display_markdown(f\"{air_density_g_per_m3=}\", raw=True)\n",
    "\n",
    "# Reference: https://www.aqua-calc.com/calculate/humidity\n",
    "\n",
    "# Saturated water vapor pressure (Pws)\n",
    "# https://en.wikipedia.org/wiki/Vapour_pressure_of_water\n",
    "# \"Tetens equation\" (simple)\n",
    "pws_by_tetens_kpa = 0.61078 * math.exp(17.27 * air_temperature_celsius / (air_temperature_celsius + 237.3))\n",
    "# ln(Pws ⁄ Pc) = Tc ⁄ T × (a1 × ϑ + a2 × ϑ^1.5 + a3 × ϑ^3 + a4 × ϑ^3.5+ a5 × ϑ^4 + a6 × ϑ^7.5)\n",
    "# where:  Pws  is saturated water vapor pressure,  Pc  is critical pressure equal to 22.064 MPa,\n",
    "# Tc is critical temperature equal to 647.096 K,  ϑ = (1 − T ⁄ Tc)\n",
    "_t_critical_kelvin = 647.096\n",
    "_pws_theta = 1 - air_temperature_kelvin / _t_critical_kelvin\n",
    "pws_kpa = 22.064 * 1000 * math.exp(\n",
    "    _t_critical_kelvin / air_temperature_kelvin * (\n",
    "        -7.85951783 * _pws_theta + 1.84408259 * _pws_theta**1.5 + -11.7866497 * _pws_theta**3\n",
    "        + 22.6807411 * _pws_theta**3.5 + -15.9618719 * _pws_theta**4 + 1.80122502 * _pws_theta**7.5)\n",
    ")\n",
    "\n",
    "# Saturated mixing ratio (Ws):  Ws, g/kg = 621.97 × Pws ⁄ (P − Pws)\n",
    "# where  P is ambient pressure,  Pws  is saturated water vapor pressure.  [5]\n",
    "water_saturated_mixing_ratio = 621.97 / 1000 * pws_kpa / (air_pressure_kpa - pws_kpa)\n",
    "display_markdown(\"### Доля воды в воздухе на 100% влажности ###\", raw=True)\n",
    "display_markdown(f\"{water_saturated_mixing_ratio=}\", raw=True)\n",
    "\n",
    "added_water_g_per_m3 = (\n",
    "    (air_humidity_end_pct - air_humidity_start_pct) / 100\n",
    "    * air_density_g_per_m3 * water_saturated_mixing_ratio\n",
    ")\n",
    "display_markdown(\"### Масса добавленой воды, грамм на метр кубический ###\", raw=True)\n",
    "display_markdown(f\"{added_water_g_per_m3=}\")\n",
    "display_markdown(f\"с {air_humidity_start_pct}% до {air_humidity_end_pct}% влажности\", raw=True)\n",
    "\n",
    "added_solids_ug_per_m3 = (\n",
    "    added_water_g_per_m3\n",
    "    * (water_tds_ppm / 1e6)\n",
    "    * 1e6  # gram -> microgram\n",
    ")\n",
    "display_markdown(\"### Масса добавленой пыли, микрограмм на метр кубический ###\", raw=True)\n",
    "display_markdown(f\"{added_solids_ug_per_m3=}\", raw=True)\n"
   ]
  }
 ],
 "metadata": {
  "kernelspec": {
   "display_name": "Python 3 (ipykernel)",
   "language": "python",
   "name": "python3"
  },
  "language_info": {
   "codemirror_mode": {
    "name": "ipython",
    "version": 3
   },
   "file_extension": ".py",
   "mimetype": "text/x-python",
   "name": "python",
   "nbconvert_exporter": "python",
   "pygments_lexer": "ipython3",
   "version": "3.8.3"
  }
 },
 "nbformat": 4,
 "nbformat_minor": 5
}
